{
  "nbformat": 4,
  "nbformat_minor": 0,
  "metadata": {
    "colab": {
      "provenance": [],
      "authorship_tag": "ABX9TyNpTweoe/81ZfxZqO/LAv6G",
      "include_colab_link": true
    },
    "kernelspec": {
      "name": "python3",
      "display_name": "Python 3"
    },
    "language_info": {
      "name": "python"
    }
  },
  "cells": [
    {
      "cell_type": "markdown",
      "metadata": {
        "id": "view-in-github",
        "colab_type": "text"
      },
      "source": [
        "<a href=\"https://colab.research.google.com/github/gcbirat12/Titanic_Survivor_Prediction/blob/main/Titanic_Survivor_Prediction.ipynb\" target=\"_parent\"><img src=\"https://colab.research.google.com/assets/colab-badge.svg\" alt=\"Open In Colab\"/></a>"
      ]
    },
    {
      "cell_type": "code",
      "execution_count": 1,
      "metadata": {
        "id": "tTUlCNbnQiH6"
      },
      "outputs": [],
      "source": [
        "import pandas as pd #import pandas"
      ]
    },
    {
      "cell_type": "code",
      "source": [
        "from google.colab import drive # mount the data\n",
        "drive.mount('/content/drive')"
      ],
      "metadata": {
        "colab": {
          "base_uri": "https://localhost:8080/"
        },
        "id": "VTHh4waeQr3e",
        "outputId": "6b84219f-3005-4d10-fa97-027ee66a6589"
      },
      "execution_count": 2,
      "outputs": [
        {
          "output_type": "stream",
          "name": "stdout",
          "text": [
            "Mounted at /content/drive\n"
          ]
        }
      ]
    },
    {
      "cell_type": "code",
      "source": [
        "train_data = pd.read_csv('/content/drive/MyDrive/titanic/train.csv') #read csv data"
      ],
      "metadata": {
        "id": "0BEgdt1UQvmO"
      },
      "execution_count": 3,
      "outputs": []
    },
    {
      "cell_type": "code",
      "source": [
        "print(train_data.head())"
      ],
      "metadata": {
        "colab": {
          "base_uri": "https://localhost:8080/"
        },
        "id": "pyOd-OvPRcdK",
        "outputId": "aa0b024c-3530-44e2-f58a-5d0dc43f4196"
      },
      "execution_count": 10,
      "outputs": [
        {
          "output_type": "stream",
          "name": "stdout",
          "text": [
            "   PassengerId  Survived  Pclass     Sex   Age  SibSp  Parch  \\\n",
            "0            1         0       3    male  22.0      1      0   \n",
            "1            2         1       1  female  38.0      1      0   \n",
            "2            3         1       3  female  26.0      0      0   \n",
            "3            4         1       1  female  35.0      1      0   \n",
            "4            5         0       3    male  35.0      0      0   \n",
            "\n",
            "             Ticket Embarked  \n",
            "0         A/5 21171        S  \n",
            "1          PC 17599        C  \n",
            "2  STON/O2. 3101282        S  \n",
            "3            113803        S  \n",
            "4            373450        S  \n"
          ]
        }
      ]
    },
    {
      "cell_type": "code",
      "source": [
        "train_data = train_data.drop(columns='Name')"
      ],
      "metadata": {
        "id": "M4TJiqDBRhDF"
      },
      "execution_count": 5,
      "outputs": []
    },
    {
      "cell_type": "code",
      "source": [
        "train_data = train_data.drop(columns='Cabin')"
      ],
      "metadata": {
        "id": "vhaOfnSiSOfh"
      },
      "execution_count": 7,
      "outputs": []
    },
    {
      "cell_type": "code",
      "source": [
        "train_data = train_data.drop(columns='Fare')"
      ],
      "metadata": {
        "id": "Pl9bDL5lSOcZ"
      },
      "execution_count": 9,
      "outputs": []
    },
    {
      "cell_type": "code",
      "source": [
        "def gender_to_number(Sex):\n",
        "  if Sex == 'male':\n",
        "    return 1\n",
        "  if Sex == 'female':\n",
        "    return 0\n",
        "  else:\n",
        "    return None\n",
        ""
      ],
      "metadata": {
        "id": "vUNlRC23SOZf"
      },
      "execution_count": 12,
      "outputs": []
    },
    {
      "cell_type": "code",
      "source": [
        "train_data['Sex'] = train_data['Sex'].apply(gender_to_number)"
      ],
      "metadata": {
        "id": "Oca8Ou5qSOWJ"
      },
      "execution_count": 13,
      "outputs": []
    },
    {
      "cell_type": "code",
      "source": [
        "print(train_data.head())"
      ],
      "metadata": {
        "colab": {
          "base_uri": "https://localhost:8080/"
        },
        "id": "fbNbpLdmXpZV",
        "outputId": "f5ed3e27-cdce-4755-8f03-67531559b397"
      },
      "execution_count": 16,
      "outputs": [
        {
          "output_type": "stream",
          "name": "stdout",
          "text": [
            "   PassengerId  Survived  Pclass  Sex   Age  SibSp  Parch Embarked\n",
            "0            1         0       3    1  22.0      1      0        S\n",
            "1            2         1       1    0  38.0      1      0        C\n",
            "2            3         1       3    0  26.0      0      0        S\n",
            "3            4         1       1    0  35.0      1      0        S\n",
            "4            5         0       3    1  35.0      0      0        S\n"
          ]
        }
      ]
    },
    {
      "cell_type": "code",
      "source": [
        "train_data = train_data.drop(columns='Ticket')\n"
      ],
      "metadata": {
        "id": "cMVbEfD4X2Zm"
      },
      "execution_count": 15,
      "outputs": []
    },
    {
      "cell_type": "code",
      "source": [
        "def Embarked_to_Number(Embarked):\n",
        "  if Embarked == 'S':\n",
        "    return 1\n",
        "  elif Embarked =='C':\n",
        "    return 2\n",
        "  elif Embarked =='Q':\n",
        "    return 3\n",
        "  else:\n",
        "    return None"
      ],
      "metadata": {
        "id": "frXldg6kX__e"
      },
      "execution_count": 17,
      "outputs": []
    },
    {
      "cell_type": "code",
      "source": [
        "train_data['Embarked']= train_data['Embarked'].apply(Embarked_to_Number)"
      ],
      "metadata": {
        "id": "FGBS0Ol3YkLO"
      },
      "execution_count": 18,
      "outputs": []
    },
    {
      "cell_type": "code",
      "source": [
        "print(train_data.head())"
      ],
      "metadata": {
        "colab": {
          "base_uri": "https://localhost:8080/"
        },
        "id": "bGeKItw4Yv86",
        "outputId": "ca0becaf-d207-45f6-ed3c-b5cee5df5fe2"
      },
      "execution_count": 19,
      "outputs": [
        {
          "output_type": "stream",
          "name": "stdout",
          "text": [
            "   PassengerId  Survived  Pclass  Sex   Age  SibSp  Parch  Embarked\n",
            "0            1         0       3    1  22.0      1      0       1.0\n",
            "1            2         1       1    0  38.0      1      0       2.0\n",
            "2            3         1       3    0  26.0      0      0       1.0\n",
            "3            4         1       1    0  35.0      1      0       1.0\n",
            "4            5         0       3    1  35.0      0      0       1.0\n"
          ]
        }
      ]
    },
    {
      "cell_type": "code",
      "source": [
        "print(train_data.info())"
      ],
      "metadata": {
        "colab": {
          "base_uri": "https://localhost:8080/"
        },
        "id": "8WAtSC9bY1bk",
        "outputId": "39f7b1f9-450b-4a77-e571-a03795857629"
      },
      "execution_count": 22,
      "outputs": [
        {
          "output_type": "stream",
          "name": "stdout",
          "text": [
            "<class 'pandas.core.frame.DataFrame'>\n",
            "RangeIndex: 891 entries, 0 to 890\n",
            "Data columns (total 8 columns):\n",
            " #   Column       Non-Null Count  Dtype  \n",
            "---  ------       --------------  -----  \n",
            " 0   PassengerId  891 non-null    int64  \n",
            " 1   Survived     891 non-null    int64  \n",
            " 2   Pclass       891 non-null    int64  \n",
            " 3   Sex          891 non-null    int64  \n",
            " 4   Age          714 non-null    float64\n",
            " 5   SibSp        891 non-null    int64  \n",
            " 6   Parch        891 non-null    int64  \n",
            " 7   Embarked     889 non-null    float64\n",
            "dtypes: float64(2), int64(6)\n",
            "memory usage: 55.8 KB\n",
            "None\n"
          ]
        }
      ]
    }
  ]
}